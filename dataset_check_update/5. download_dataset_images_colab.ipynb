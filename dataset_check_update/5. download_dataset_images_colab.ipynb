{
  "cells": [
    {
      "cell_type": "markdown",
      "metadata": {
        "id": "C6N5z5Tr34PM"
      },
      "source": [
        "## Download the Dataset Images to Google Drive\n",
        "\n",
        "- Create a folder \"**CrackDetection**\" on your google drive ([My Drive](https://drive.google.com/drive/u/0/my-drive))\n",
        "- Upload this notebook and dataset file '**WRB_All_bbox_annotations.json**' from your local to the created gdrive folder \"**CrackDetection**\"\n",
        "- Then run this notebook. With runing the first time, you need to allow colab access to your drive."
      ]
    },
    {
      "cell_type": "code",
      "execution_count": 1,
      "metadata": {
        "colab": {
          "base_uri": "https://localhost:8080/"
        },
        "id": "6Fe4tCe-34PP",
        "outputId": "e7bb5609-ecf5-487b-cdc7-14d8c57e2d56"
      },
      "outputs": [
        {
          "output_type": "stream",
          "name": "stdout",
          "text": [
            "Mounted at /content/gdrive\n",
            "Created directory: /content/gdrive/MyDrive/CrackDetection/images\n"
          ]
        },
        {
          "output_type": "stream",
          "name": "stderr",
          "text": [
            "100%|██████████| 2131/2131 [1:45:07<00:00,  2.96s/it]\n"
          ]
        },
        {
          "output_type": "stream",
          "name": "stdout",
          "text": [
            "\n",
            "Total number of image files in /content/gdrive/MyDrive/CrackDetection/images: 2131\n"
          ]
        }
      ],
      "source": [
        "import json\n",
        "import os\n",
        "import requests\n",
        "from tqdm import tqdm\n",
        "import time\n",
        "\n",
        "# Mount Google Drive\n",
        "from google.colab import drive\n",
        "drive.mount('/content/gdrive', force_remount=True)\n",
        "\n",
        "# Path to save images\n",
        "image_folder = '/content/gdrive/MyDrive/CrackDetection/images'\n",
        "\n",
        "# Check if image_folder already exists\n",
        "if not os.path.exists(image_folder):\n",
        "    os.makedirs(image_folder)\n",
        "    print(f\"Created directory: {image_folder}\")\n",
        "else:\n",
        "    print(f\"Directory already exists: {image_folder}\")\n",
        "\n",
        "# Load dataset from JSON\n",
        "dataset_json_path = '/content/gdrive/MyDrive/CrackDetection/WRB_All_bbox_annotations.json'\n",
        "with open(dataset_json_path, 'r') as f:\n",
        "    dataset = json.load(f)\n",
        "\n",
        "# Function to download image from URL with retries\n",
        "def download_image(url, save_path, retries=3, retry_delay=2):\n",
        "    attempt = 0\n",
        "    while attempt < retries:\n",
        "        try:\n",
        "            response = requests.get(url, stream=True)\n",
        "            if response.status_code == 200:\n",
        "                with open(save_path, 'wb') as file:\n",
        "                    for chunk in response.iter_content(chunk_size=1024):\n",
        "                        if chunk:\n",
        "                            file.write(chunk)\n",
        "                return True\n",
        "            else:\n",
        "                print(f\"Failed to download image from {url}. Status code: {response.status_code}\")\n",
        "        except Exception as e:\n",
        "            print(f\"Exception occurred while downloading image from {url}: {e}\")\n",
        "\n",
        "        attempt += 1\n",
        "        time.sleep(retry_delay)\n",
        "\n",
        "    print(f\"Failed to download image from {url} after {retries} attempts.\")\n",
        "    return False\n",
        "\n",
        "# Download images with tqdm progress bar\n",
        "for data in tqdm(dataset):\n",
        "    image_urls = data['image_urls']\n",
        "    image_file_name = data['image_file_name']\n",
        "    image_save_path = os.path.join(image_folder, image_file_name)\n",
        "\n",
        "    # Check if file already exists\n",
        "    if os.path.exists(image_save_path):\n",
        "        print(f\"Skipping download of {image_file_name}. File already exists.\")\n",
        "        continue\n",
        "\n",
        "    # Download only the first URL\n",
        "    success = download_image(image_urls[0], image_save_path)\n",
        "    if not success:\n",
        "        print(f\"Failed to download {image_file_name} from {image_urls[0]}\")\n",
        "\n",
        "# Count number of image files in directory\n",
        "num_images = len([name for name in os.listdir(image_folder) if os.path.isfile(os.path.join(image_folder, name)) and name.lower().endswith(('.png', '.jpg', '.jpeg'))])\n",
        "print(f\"\\nTotal number of image files in {image_folder}: {num_images}\")"
      ]
    },
    {
      "cell_type": "code",
      "source": [
        "# Count number of image files in directory\n",
        "num_images = len([name for name in os.listdir(image_folder)\n",
        "                      if os.path.isfile(os.path.join(image_folder, name)) and\n",
        "                         name.lower().endswith(('.png', '.jpg', '.jpeg'))\n",
        "                 ])\n",
        "print(f\"\\nTotal number of image files in {image_folder}: {num_images}\")"
      ],
      "metadata": {
        "colab": {
          "base_uri": "https://localhost:8080/"
        },
        "id": "ARDT5PPgOsyx",
        "outputId": "3d7d0bc5-0a8f-4f6b-869d-2719246a65f8"
      },
      "execution_count": 2,
      "outputs": [
        {
          "output_type": "stream",
          "name": "stdout",
          "text": [
            "\n",
            "Total number of image files in /content/gdrive/MyDrive/CrackDetection/images: 2131\n"
          ]
        }
      ]
    }
  ],
  "metadata": {
    "language_info": {
      "name": "python"
    },
    "colab": {
      "provenance": [],
      "toc_visible": true
    },
    "kernelspec": {
      "name": "python3",
      "display_name": "Python 3"
    }
  },
  "nbformat": 4,
  "nbformat_minor": 0
}