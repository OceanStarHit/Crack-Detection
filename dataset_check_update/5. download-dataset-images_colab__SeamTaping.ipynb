{
  "cells": [
    {
      "cell_type": "markdown",
      "metadata": {
        "id": "C6N5z5Tr34PM"
      },
      "source": [
        "## Download the Dataset Images to Google Drive\n",
        "\n",
        "In order to work TorchVision FasterRCNN and YOLO on google colab, we should download dataset images to google drive.\n",
        "\n",
        "- Create a folder \"**CrackDetection**\" on your google drive ([My Drive](https://drive.google.com/drive/u/0/my-drive))\n",
        "- Upload this notebook and dataset JSON file '**SeamTaping_All_bbox_annotations.json**' from your local to the created gdrive folder \"**CrackDetection**\"\n",
        "- Then run this notebook.\n",
        "    * When runing the first time, you need to allow colab access to your google drive.\n"
      ]
    },
    {
      "cell_type": "code",
      "execution_count": 1,
      "metadata": {
        "colab": {
          "base_uri": "https://localhost:8080/"
        },
        "id": "ByEGxJvnzVkm",
        "outputId": "e84bd96e-18dc-481d-88dc-0a619632f9a4"
      },
      "outputs": [
        {
          "output_type": "stream",
          "name": "stdout",
          "text": [
            "Project: SeamTaping\n"
          ]
        }
      ],
      "source": [
        "project_name = \"SeamTaping\"\n",
        "# project_name = \"WRB\"\n",
        "\n",
        "print(\"Project:\", project_name)"
      ]
    },
    {
      "cell_type": "code",
      "execution_count": 2,
      "metadata": {
        "colab": {
          "base_uri": "https://localhost:8080/"
        },
        "id": "6Fe4tCe-34PP",
        "outputId": "f48175be-dd65-4100-822f-7f06db3fb1b3"
      },
      "outputs": [
        {
          "output_type": "stream",
          "name": "stdout",
          "text": [
            "Mounted at /content/gdrive\n",
            "Created directory: /content/gdrive/MyDrive/CrackDetection/SeamTaping_images\n"
          ]
        },
        {
          "output_type": "stream",
          "name": "stderr",
          "text": [
            "100%|██████████| 223/223 [10:14<00:00,  2.75s/it]"
          ]
        },
        {
          "output_type": "stream",
          "name": "stdout",
          "text": [
            "\n",
            "Total number of image files in /content/gdrive/MyDrive/CrackDetection/SeamTaping_images: 223\n"
          ]
        },
        {
          "output_type": "stream",
          "name": "stderr",
          "text": [
            "\n"
          ]
        }
      ],
      "source": [
        "import json\n",
        "import os\n",
        "import requests\n",
        "from tqdm import tqdm\n",
        "import time\n",
        "\n",
        "# Mount Google Drive\n",
        "from google.colab import drive\n",
        "drive.mount('/content/gdrive', force_remount=True)\n",
        "\n",
        "# Path to save images\n",
        "image_folder = f'/content/gdrive/MyDrive/CrackDetection/{project_name}_images'\n",
        "\n",
        "# Check if image_folder already exists\n",
        "if not os.path.exists(image_folder):\n",
        "    os.makedirs(image_folder)\n",
        "    print(f\"Created directory: {image_folder}\")\n",
        "else:\n",
        "    print(f\"Directory already exists: {image_folder}\")\n",
        "\n",
        "# Load dataset from JSON\n",
        "dataset_json_path = f'/content/gdrive/MyDrive/CrackDetection/{project_name}_All_bbox_annotations.json'\n",
        "with open(dataset_json_path, 'r') as f:\n",
        "    dataset = json.load(f)\n",
        "\n",
        "# Function to download image from URL with retries\n",
        "def download_image(url, save_path, retries=3, retry_delay=2):\n",
        "    attempt = 0\n",
        "    while attempt < retries:\n",
        "        try:\n",
        "            response = requests.get(url, stream=True)\n",
        "            if response.status_code == 200:\n",
        "                with open(save_path, 'wb') as file:\n",
        "                    for chunk in response.iter_content(chunk_size=1024):\n",
        "                        if chunk:\n",
        "                            file.write(chunk)\n",
        "                return True\n",
        "            else:\n",
        "                print(f\"Failed to download image from {url}. Status code: {response.status_code}\")\n",
        "        except Exception as e:\n",
        "            print(f\"Exception occurred while downloading image from {url}: {e}\")\n",
        "\n",
        "        attempt += 1\n",
        "        time.sleep(retry_delay)\n",
        "\n",
        "    print(f\"Failed to download image from {url} after {retries} attempts.\")\n",
        "    return False\n",
        "\n",
        "# Download images with tqdm progress bar\n",
        "for data in tqdm(dataset):\n",
        "    image_urls = data['image_urls']\n",
        "    image_file_name = data['image_file_name']\n",
        "    image_save_path = os.path.join(image_folder, image_file_name)\n",
        "\n",
        "    # Check if file already exists\n",
        "    if os.path.exists(image_save_path):\n",
        "        print(f\"Skipping download of {image_file_name}. File already exists.\")\n",
        "        continue\n",
        "\n",
        "    # Download only the first URL\n",
        "    success = download_image(image_urls[0], image_save_path)\n",
        "    if not success:\n",
        "        print(f\"Failed to download {image_file_name} from {image_urls[0]}\")"
      ]
    },
    {
      "cell_type": "code",
      "execution_count": 3,
      "metadata": {
        "colab": {
          "base_uri": "https://localhost:8080/"
        },
        "id": "ARDT5PPgOsyx",
        "outputId": "c975a73c-9340-4007-ebcd-63923d71302d"
      },
      "outputs": [
        {
          "output_type": "stream",
          "name": "stdout",
          "text": [
            "\n",
            "Total number of image files in /content/gdrive/MyDrive/CrackDetection/SeamTaping_images: 223\n"
          ]
        }
      ],
      "source": [
        "# Count number of image files in directory\n",
        "num_images = len([name for name in os.listdir(image_folder)\n",
        "                      if os.path.isfile(os.path.join(image_folder, name)) and\n",
        "                         name.lower().endswith(('.png', '.jpg', '.jpeg'))\n",
        "                 ])\n",
        "print(f\"\\nTotal number of image files in {image_folder}: {num_images}\")"
      ]
    }
  ],
  "metadata": {
    "colab": {
      "provenance": []
    },
    "kernelspec": {
      "display_name": "Python 3",
      "name": "python3"
    },
    "language_info": {
      "name": "python"
    }
  },
  "nbformat": 4,
  "nbformat_minor": 0
}