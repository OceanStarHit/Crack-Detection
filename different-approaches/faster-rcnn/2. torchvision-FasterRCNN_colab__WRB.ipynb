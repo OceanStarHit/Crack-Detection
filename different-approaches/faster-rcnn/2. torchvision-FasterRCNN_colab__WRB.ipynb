{
 "cells": [
  {
   "cell_type": "markdown",
   "metadata": {},
   "source": [
    "## Setup Google Colab\n",
    "\n",
    "First, mount Google Drive to access files:"
   ]
  },
  {
   "cell_type": "code",
   "execution_count": null,
   "metadata": {},
   "outputs": [],
   "source": [
    "# Mount Google Drive\n",
    "from google.colab import drive\n",
    "drive.mount('/content/gdrive', force_remount=True)\n",
    "\n",
    "# project_name = \"SeamTaping\"\n",
    "project_name = \"WRB\"\n",
    "print(\"Project:\", project_name)\n",
    "\n",
    "# Path to saved images\n",
    "image_folder = f'/content/gdrive/MyDrive/CrackDetection/{project_name}_dataset/images'\n",
    "\n",
    "# Load dataset from JSON\n",
    "train_dataset_json_path = f'/content/gdrive/MyDrive/CrackDetection/{project_name}_dataset/train_data.json'\n",
    "val_dataset_json_path = f'/content/gdrive/MyDrive/CrackDetection/{project_name}_dataset/val_data.json'\n",
    "test_dataset_json_path = f'/content/gdrive/MyDrive/CrackDetection/{project_name}_dataset/test_data.json'\n"
   ]
  },
  {
   "cell_type": "markdown",
   "metadata": {},
   "source": [
    "## Define Custom Dataset Class\n",
    "\n",
    "Create a custom dataset class to load images and annotations."
   ]
  },
  {
   "cell_type": "code",
   "execution_count": null,
   "metadata": {},
   "outputs": [],
   "source": [
    "import os\n",
    "import json\n",
    "import numpy as np\n",
    "import torch\n",
    "from PIL import Image, ImageDraw\n",
    "import torchvision.transforms as T\n",
    "from torch.utils.data import Dataset, DataLoader\n",
    "\n",
    "class CustomDataset(Dataset):\n",
    "    def __init__(self, dataset_json_path, image_folder):\n",
    "        with open(dataset_json_path, 'r') as f:\n",
    "            dataset = json.load(f)\n",
    "\n",
    "        self.dataset = dataset\n",
    "        self.image_folder = image_folder\n",
    "        self.mean = [0.485, 0.456, 0.406]\n",
    "        self.std = [0.229, 0.224, 0.225]\n",
    "        self.image_size = (800, 800)\n",
    "        self.transforms = T.Compose([\n",
    "            T.Resize(self.image_size),\n",
    "            T.ToTensor(),\n",
    "            T.Normalize(mean=self.mean, std=self.std)\n",
    "        ])\n",
    "\n",
    "        self.label_map = {\n",
    "            'WRB-Bad': 0,\n",
    "            # Add more labels as needed\n",
    "        }\n",
    "\n",
    "    def __len__(self):\n",
    "        return len(self.dataset)\n",
    "\n",
    "    def xywh_to_xyxy(self, xywh):\n",
    "        x, y, w, h = xywh\n",
    "        x2 = x + w\n",
    "        y2 = y + h\n",
    "        xyxy = [x, y, x2, y2]\n",
    "        return xyxy\n",
    "\n",
    "    def __getitem__(self, idx):\n",
    "        image_data = self.dataset[idx]\n",
    "        image_file_name = image_data['image_file_name']\n",
    "        image_path = os.path.join(self.image_folder, image_file_name)\n",
    "\n",
    "        # Load image\n",
    "        image_original = Image.open(image_path).convert(\"RGB\")\n",
    "\n",
    "        # Get bounding boxes and labels\n",
    "        boxes = []\n",
    "        labels = []\n",
    "        for annotation in image_data['annotations']:\n",
    "            bbox = annotation['bbox']\n",
    "            box = self.xywh_to_xyxy(bbox)\n",
    "            boxes.append(box)\n",
    "            labels.append(self.label_map[annotation['label']])\n",
    "\n",
    "        boxes = torch.as_tensor(boxes, dtype=torch.float32)\n",
    "\n",
    "        # Apply transformations\n",
    "        if self.transforms is not None:\n",
    "            image = self.transforms(image_original)\n",
    "\n",
    "        # Calculate scaling factor for resizing bounding boxes AFTER transforms\n",
    "        original_size = np.array(image_original.size)  # Get original size from the image file\n",
    "        # print(original_size)\n",
    "        resized_size = self.image_size\n",
    "        scale = resized_size / original_size\n",
    "        # print(scale)\n",
    "\n",
    "        # Adjust bounding box coordinates based on resizing\n",
    "        boxes[:, 0] *= scale[0]  # x_min\n",
    "        boxes[:, 1] *= scale[1]  # y_min\n",
    "        boxes[:, 2] *= scale[0]  # x_max\n",
    "        boxes[:, 3] *= scale[1]  # y_max\n",
    "\n",
    "        labels = torch.tensor(labels, dtype=torch.int64)\n",
    "\n",
    "        target = {\n",
    "            'boxes': boxes,\n",
    "            'labels': labels\n",
    "        }\n",
    "\n",
    "        return image, target\n",
    "\n",
    "# Create custom dataset instance with augmentation enabled\n",
    "train_dataset = CustomDataset(train_dataset_json_path, image_folder)\n",
    "val_dataset = CustomDataset(val_dataset_json_path, image_folder)\n",
    "test_dataset = CustomDataset(test_dataset_json_path, image_folder)\n",
    "\n",
    "train_dataloader = DataLoader(train_dataset, batch_size=4, shuffle=True, num_workers=4)\n",
    "val_dataloader = DataLoader(val_dataset, batch_size=4, shuffle=True, num_workers=4)\n",
    "test_dataloader = DataLoader(test_dataset, batch_size=4, shuffle=True, num_workers=4)\n"
   ]
  },
  {
   "cell_type": "markdown",
   "metadata": {},
   "source": [
    "## Train TorchVision FasterRCNN model"
   ]
  },
  {
   "cell_type": "code",
   "execution_count": null,
   "metadata": {},
   "outputs": [],
   "source": [
    "import os\n",
    "import tqdm\n",
    "import torchvision\n",
    "\n",
    "def get_model(pretrained=False):\n",
    "    model = torchvision.models.detection.fasterrcnn_resnet50_fpn(pretrained=pretrained)\n",
    "    in_features = model.roi_heads.box_predictor.cls_score.in_features\n",
    "    model.roi_heads.box_predictor = torchvision.models.detection.faster_rcnn.FastRCNNPredictor(in_features, 2)\n",
    "    return model"
   ]
  },
  {
   "cell_type": "code",
   "execution_count": null,
   "metadata": {},
   "outputs": [],
   "source": [
    "def train_epoch(model, train_dataloader, optimizer, device):\n",
    "    model.train()\n",
    "    train_loss = 0\n",
    "    for images, targets in train_dataloader:\n",
    "        images = list(image.to(device) for image in images)\n",
    "        targets = [{k: v.to(device) for k, v in t.items()} for t in targets]\n",
    "\n",
    "        loss_dict = model(images, targets)\n",
    "        losses = sum(loss for loss in loss_dict.values())\n",
    "        train_loss += losses.item()\n",
    "\n",
    "        optimizer.zero_grad()\n",
    "        losses.backward()\n",
    "        optimizer.step()\n",
    "\n",
    "    return train_loss / len(train_dataloader)\n",
    "\n",
    "def validate_epoch(model, val_dataloader, device):\n",
    "    model.eval()\n",
    "    val_loss = 0\n",
    "    with torch.no_grad():\n",
    "        for images, targets in val_dataloader:\n",
    "            images = list(image.to(device) for image in images)\n",
    "            targets = [{k: v.to(device) for k, v in t.items()} for t in targets]\n",
    "\n",
    "            loss_dict = model(images, targets)\n",
    "            if isinstance(loss_dict, dict):  # Check if the loss_dict is indeed a dictionary\n",
    "                losses = sum(loss for loss in loss_dict.values())\n",
    "                val_loss += losses.item()\n",
    "\n",
    "    return val_loss / len(val_dataloader)\n",
    "\n",
    "device = torch.device('cuda') if torch.cuda.is_available() else torch.device('cpu')\n",
    "model = get_model(pretrained=True)\n",
    "model.to(device)\n",
    "\n",
    "params = [p for p in model.parameters() if p.requires_grad]\n",
    "optimizer = torch.optim.SGD(params, lr=0.005, momentum=0.9, weight_decay=0.0005)\n",
    "num_epochs = 10\n",
    "\n",
    "train_losses = []\n",
    "val_losses = []\n",
    "learning_rates = []\n",
    "\n",
    "for epoch in range(num_epochs):\n",
    "    train_loss = train_epoch(model, train_dataloader, optimizer, device)\n",
    "    val_loss = validate_epoch(model, val_dataloader, device)\n",
    "    learning_rate = optimizer.param_groups[0]['lr']\n",
    "\n",
    "    train_losses.append(train_loss)\n",
    "    val_losses.append(val_loss)\n",
    "    learning_rates.append(learning_rate)\n",
    "\n",
    "    print(f\"Epoch {epoch+1}/{num_epochs}, Train Loss: {train_loss:.4f}, Val Loss: {val_loss:.4f}, Learning Rate: {learning_rate:.6f}\")\n",
    "\n",
    "print(\"Training complete.\")\n"
   ]
  },
  {
   "cell_type": "markdown",
   "metadata": {},
   "source": [
    "### Define Training Function\n",
    "\n",
    "Set up the training function."
   ]
  },
  {
   "cell_type": "code",
   "execution_count": null,
   "metadata": {},
   "outputs": [],
   "source": [
    "# Function to train the model\n",
    "def train_model(model, data_loader, optimizer, device, num_epochs=10):\n",
    "    model.train()\n",
    "    for epoch in range(num_epochs):\n",
    "        for images, targets in tqdm(data_loader):\n",
    "            images = list(image.to(device) for image in images)\n",
    "            targets = [{k: v.to(device) for k, v in t.items()} for t in targets]\n",
    "\n",
    "            loss_dict = model(images, targets)\n",
    "\n",
    "            losses = sum(loss for loss in loss_dict.values())\n",
    "\n",
    "            optimizer.zero_grad()\n",
    "            losses.backward()\n",
    "            optimizer.step()\n"
   ]
  },
  {
   "cell_type": "markdown",
   "metadata": {},
   "source": [
    "### Run Training Model"
   ]
  },
  {
   "cell_type": "code",
   "execution_count": null,
   "metadata": {},
   "outputs": [],
   "source": [
    "device = torch.device('cuda') if torch.cuda.is_available() else torch.device('cpu')\n",
    "data_loader = DataLoader(custom_dataset, batch_size=2, shuffle=True, num_workers=4)\n",
    "optimizer = torch.optim.Adam(model.parameters(), lr=0.001)\n",
    "train_model(model, data_loader, optimizer, device, num_epochs=10)"
   ]
  },
  {
   "cell_type": "markdown",
   "metadata": {},
   "source": [
    "### Save the Model\n",
    "\n",
    "Save the trained model."
   ]
  },
  {
   "cell_type": "code",
   "execution_count": null,
   "metadata": {},
   "outputs": [],
   "source": [
    "# Save model\n",
    "checkpoint_dir = '/content/drive/My Drive/CrackDetection'\n",
    "torch.save(model.state_dict(), os.path.join(checkpoint_dir, f'faster_rcnn_model.pth'))"
   ]
  },
  {
   "cell_type": "markdown",
   "metadata": {},
   "source": [
    "## Load and Evaluate the Model\n"
   ]
  },
  {
   "cell_type": "markdown",
   "metadata": {},
   "source": [
    "### Load the model for inference."
   ]
  },
  {
   "cell_type": "code",
   "execution_count": null,
   "metadata": {},
   "outputs": [],
   "source": [
    "# Load model\n",
    "model = get_torchvision_fastrcnn_model()\n",
    "model.load_state_dict(torch.load(os.path.join(checkpoint_dir, f'faster_rcnn_model.pth')))\n",
    "model.eval()"
   ]
  },
  {
   "cell_type": "markdown",
   "metadata": {},
   "source": [
    "### Evaluate the trained model\n",
    "\n",
    "using metrics like accuracy, precision, recall, and F1-score."
   ]
  },
  {
   "cell_type": "code",
   "execution_count": null,
   "metadata": {},
   "outputs": [],
   "source": [
    "from sklearn.metrics import accuracy_score, precision_score, recall_score, f1_score\n",
    "import numpy as np\n",
    "\n",
    "def evaluate_model(model, data_loader, device):\n",
    "    model.eval()\n",
    "    true_labels = []\n",
    "    pred_labels = []\n",
    "\n",
    "    with torch.no_grad():\n",
    "        for images, targets in tqdm(data_loader):\n",
    "            images = list(image.to(device) for image in images)\n",
    "            targets = [{k: v.to(device) for k, v in t.items()} for t in targets]\n",
    "\n",
    "            predictions = model(images)\n",
    "            \n",
    "            # Process predictions and targets to calculate metrics\n",
    "            for pred, target in zip(predictions, targets):\n",
    "                true_labels.extend(target['labels'].cpu().numpy())\n",
    "                pred_labels.extend(pred['labels'].cpu().numpy())\n",
    "\n",
    "    # Calculate evaluation metrics\n",
    "    accuracy = accuracy_score(true_labels, pred_labels)\n",
    "    precision = precision_score(true_labels, pred_labels, average='weighted')\n",
    "    recall = recall_score(true_labels, pred_labels, average='weighted')\n",
    "    f1 = f1_score(true_labels, pred_labels, average='weighted')\n",
    "\n",
    "    print(f\"Accuracy: {accuracy:.4f}, Precision: {precision:.4f}, Recall: {recall:.4f}, F1-score: {f1:.4f}\")\n",
    "\n",
    "# Example usage of evaluation function\n",
    "data_loader_test = DataLoader(custom_dataset, batch_size=1, shuffle=False, num_workers=4)\n",
    "evaluate_model(model, data_loader_test, device)\n"
   ]
  },
  {
   "cell_type": "markdown",
   "metadata": {},
   "source": []
  }
 ],
 "metadata": {
  "kernelspec": {
   "display_name": "Azure-Custom-Vision-Practice",
   "language": "python",
   "name": "python3"
  },
  "language_info": {
   "codemirror_mode": {
    "name": "ipython",
    "version": 3
   },
   "file_extension": ".py",
   "mimetype": "text/x-python",
   "name": "python",
   "nbconvert_exporter": "python",
   "pygments_lexer": "ipython3",
   "version": "3.12.4"
  }
 },
 "nbformat": 4,
 "nbformat_minor": 2
}
