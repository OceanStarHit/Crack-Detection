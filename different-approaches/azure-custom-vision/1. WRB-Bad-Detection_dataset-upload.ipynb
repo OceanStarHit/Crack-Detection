{
 "cells": [
  {
   "cell_type": "code",
   "execution_count": null,
   "metadata": {},
   "outputs": [],
   "source": [
    "import sys\n",
    "import os\n",
    "\n",
    "# Add the path to the project directory\n",
    "utils_path = os.path.abspath('..')\n",
    "if utils_path not in sys.path:\n",
    "    sys.path.append(utils_path)\n",
    "# Add the path to the directory containing utils to sys.path\n",
    "utils_path = os.path.abspath('../utils')\n",
    "if utils_path not in sys.path:\n",
    "    sys.path.append(utils_path)\n",
    "print(sys.path)"
   ]
  },
  {
   "cell_type": "markdown",
   "metadata": {},
   "source": [
    "### Data Preprocessing and Visualization\n",
    "\n",
    "Let's start by loading the dataset and visualizing random images with bounding boxes.\n",
    "\n"
   ]
  },
  {
   "cell_type": "code",
   "execution_count": null,
   "metadata": {},
   "outputs": [],
   "source": [
    "import os\n",
    "import pandas as pd\n",
    "import matplotlib.pyplot as plt\n",
    "\n",
    "# Read the dataset\n",
    "# data = pd.read_excel('WRB_trimmed.xlsx')\n",
    "data = pd.read_excel('../dataset/WRB_All.xlsx')\n",
    "\n",
    "# Split the data into training and test sets based on the 'Group Name' column\n",
    "train_data = data[data['Group Name'] == 'Train']\n",
    "test_data = data[data['Group Name'] == 'Test']"
   ]
  },
  {
   "cell_type": "markdown",
   "metadata": {},
   "source": [
    "### Authenticate the client\n",
    "\n",
    "Instantiate a training and prediction client with your endpoint and keys. "
   ]
  },
  {
   "cell_type": "code",
   "execution_count": 2,
   "metadata": {},
   "outputs": [
    {
     "name": "stdout",
     "output_type": "stream",
     "text": [
      "90dad624b6664556accbcfd69e2e170d https://crackdetection.cognitiveservices.azure.com/\n"
     ]
    }
   ],
   "source": [
    "from azure.cognitiveservices.vision.customvision.training import CustomVisionTrainingClient\n",
    "from azure.cognitiveservices.vision.customvision.prediction import CustomVisionPredictionClient\n",
    "from msrest.authentication import ApiKeyCredentials\n",
    "from dotenv import load_dotenv\n",
    "\n",
    "# Load environment variables\n",
    "load_dotenv()\n",
    "print(os.getenv(\"TRAINING_KEY\"), os.getenv(\"TRAINING_ENDPOINT\"))\n",
    "\n",
    "# Authentication\n",
    "credentials = ApiKeyCredentials(in_headers={\"Training-key\": os.getenv(\"TRAINING_KEY\")})\n",
    "trainer = CustomVisionTrainingClient(endpoint=os.getenv(\"TRAINING_ENDPOINT\"), credentials=credentials)\n",
    "\n",
    "# Authentication for prediction\n",
    "prediction_credentials = ApiKeyCredentials(in_headers={\"Prediction-key\": os.getenv(\"PREDICTION_KEY\")})\n",
    "predictor = CustomVisionPredictionClient(endpoint=os.getenv(\"PREDICTION_ENDPOINT\"), credentials=prediction_credentials)\n"
   ]
  },
  {
   "cell_type": "markdown",
   "metadata": {},
   "source": [
    "### Creat or get the project"
   ]
  },
  {
   "cell_type": "code",
   "execution_count": 3,
   "metadata": {},
   "outputs": [
    {
     "name": "stdout",
     "output_type": "stream",
     "text": [
      "Searching for project 'WRB-Bad-Detection'...\n",
      "Project 'WRB-Bad-Detection' found with ID: 1ee0bb48-3b3f-419d-a575-e12c98f91578\n"
     ]
    }
   ],
   "source": [
    "# Find the object detection domain\n",
    "obj_detection_domain = next(domain for domain in trainer.get_domains() if domain.type == \"ObjectDetection\" and domain.name == \"General\")\n",
    "\n",
    "# Project name setup\n",
    "project_name = \"WRB-Bad-Detection\"\n",
    "\n",
    "# Find project by name\n",
    "print(f\"Searching for project '{project_name}'...\")\n",
    "projects = trainer.get_projects()\n",
    "\n",
    "project_id = None\n",
    "for project in projects:\n",
    "    if project.name == project_name:\n",
    "        project_id = project.id\n",
    "        break\n",
    "\n",
    "if project_id:\n",
    "    print(f\"Project '{project_name}' found with ID: {project_id}\")\n",
    "else:\n",
    "    print(f\"No project found with the name '{project_name}'\")\n",
    "    # Create a new project\n",
    "    print (\"Creating project...\")\n",
    "    project = trainer.create_project(project_name, domain_id=obj_detection_domain.id)\n"
   ]
  },
  {
   "cell_type": "markdown",
   "metadata": {},
   "source": [
    "### Data Ingestion and Transformation\n",
    "\n",
    "Create a data pipeline to transform and ingest data according to Azure Custom Vision's requirements."
   ]
  },
  {
   "cell_type": "code",
   "execution_count": 15,
   "metadata": {},
   "outputs": [
    {
     "name": "stdout",
     "output_type": "stream",
     "text": [
      "90dad624b6664556accbcfd69e2e170d https://crackdetection.cognitiveservices.azure.com/\n",
      "Creating project...\n"
     ]
    },
    {
     "name": "stderr",
     "output_type": "stream",
     "text": [
      "C:\\Users\\User\\AppData\\Local\\Temp\\ipykernel_21920\\1436926017.py:51: SettingWithCopyWarning: \n",
      "A value is trying to be set on a copy of a slice from a DataFrame.\n",
      "Try using .loc[row_indexer,col_indexer] = value instead\n",
      "\n",
      "See the caveats in the documentation: https://pandas.pydata.org/pandas-docs/stable/user_guide/indexing.html#returning-a-view-versus-a-copy\n",
      "  train_data['bbox'] = train_data['2D Image Points'].apply(json.loads).apply(polygon_to_bbox)\n",
      "100%|██████████| 3093/3093 [1:02:25<00:00,  1.21s/it]\n"
     ]
    }
   ],
   "source": [
    "from azure.cognitiveservices.vision.customvision.training.models import Region, ImageUrlCreateEntry, ImageUrlCreateBatch\n",
    "from tqdm import tqdm\n",
    "import json\n",
    "from utils.transform_functions import polygon_to_bbox\n",
    "\n",
    "# Create tags in Custom Vision\n",
    "tag_dict = {}\n",
    "for label in data['Label'].unique():\n",
    "    tag_dict[label] = trainer.create_tag(project.id, label)\n",
    "\n",
    "# Convert polygons to bounding boxes\n",
    "train_data['bbox'] = train_data['2D Image Points'].apply(json.loads).apply(polygon_to_bbox)\n",
    "\n",
    "def upload_images_to_azure(data, trainer, project_id):\n",
    "\n",
    "    for index, row in tqdm(data.iterrows(), total=data.shape[0]):\n",
    "        img_width = 1000\n",
    "        img_height = 750\n",
    "        bbox = row['bbox']\n",
    "        label = row['Label']\n",
    "\n",
    "        regions = [Region(\n",
    "            tag_id=tag_dict[label].id,\n",
    "            left=bbox[\"left\"] / img_width,\n",
    "            top=bbox[\"top\"] / img_height,\n",
    "            width=bbox[\"width\"] / img_width,\n",
    "            height=bbox[\"height\"] / img_height\n",
    "        )]\n",
    "\n",
    "        image_entry = ImageUrlCreateEntry(\n",
    "            url=row['2D Image URL'],\n",
    "            regions=regions\n",
    "        )\n",
    "\n",
    "        upload_result = trainer.create_images_from_urls(\n",
    "            project_id, \n",
    "            ImageUrlCreateBatch(images=[image_entry])\n",
    "            )\n",
    "\n",
    "        # # If upload is not successful, print details about that image for debugging\n",
    "        # if not upload_result.is_batch_successful:\n",
    "        #     print(\"Image upload failed.\")\n",
    "        #     for image in upload_result.images:\n",
    "        #         print(f\"Image status: {image.status}, Source URL: {image.source_url}\")\n",
    "        #     break\n",
    "        # else:\n",
    "        #     print(f\"Uploaded image: {row['2D Image URL']}\")\n",
    "\n",
    "\n",
    "upload_images_to_azure(train_data, trainer, project.id)\n"
   ]
  }
 ],
 "metadata": {
  "kernelspec": {
   "display_name": "Azure-Custom-Vision-Practice",
   "language": "python",
   "name": "python3"
  },
  "language_info": {
   "codemirror_mode": {
    "name": "ipython",
    "version": 3
   },
   "file_extension": ".py",
   "mimetype": "text/x-python",
   "name": "python",
   "nbconvert_exporter": "python",
   "pygments_lexer": "ipython3",
   "version": "3.12.4"
  }
 },
 "nbformat": 4,
 "nbformat_minor": 2
}
